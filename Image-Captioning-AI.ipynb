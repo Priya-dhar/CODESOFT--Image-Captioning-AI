{
  "nbformat": 4,
  "nbformat_minor": 0,
  "metadata": {
    "colab": {
      "provenance": [],
      "authorship_tag": "ABX9TyOGJLv3Z0if0hwX99FdFN+G",
      "include_colab_link": true
    },
    "kernelspec": {
      "name": "python3",
      "display_name": "Python 3"
    },
    "language_info": {
      "name": "python"
    }
  },
  "cells": [
    {
      "cell_type": "markdown",
      "metadata": {
        "id": "view-in-github",
        "colab_type": "text"
      },
      "source": [
        "<a href=\"https://colab.research.google.com/github/Priya-dhar/CODESOFT--Image-Captioning-AI/blob/main/Image-Captioning-AI.ipynb\" target=\"_parent\"><img src=\"https://colab.research.google.com/assets/colab-badge.svg\" alt=\"Open In Colab\"/></a>"
      ]
    },
    {
      "cell_type": "code",
      "execution_count": 4,
      "metadata": {
        "colab": {
          "base_uri": "https://localhost:8080/"
        },
        "id": "pT7ZCHtFoxvL",
        "outputId": "09da1628-923d-47ea-bd48-5871a6561011"
      },
      "outputs": [
        {
          "output_type": "stream",
          "name": "stdout",
          "text": [
            "\u001b[1m1/1\u001b[0m \u001b[32m━━━━━━━━━━━━━━━━━━━━\u001b[0m\u001b[37m\u001b[0m \u001b[1m1s\u001b[0m 1s/step\n",
            "Generated Caption: park park park park park park\n"
          ]
        }
      ],
      "source": [
        "import numpy as np\n",
        "import tensorflow as tf\n",
        "from tensorflow.keras.applications import ResNet50\n",
        "from tensorflow.keras.applications.resnet50 import preprocess_input\n",
        "from tensorflow.keras.preprocessing import image\n",
        "from tensorflow.keras.models import Model\n",
        "from tensorflow.keras.preprocessing.sequence import pad_sequences\n",
        "from tensorflow.keras.preprocessing.text import Tokenizer\n",
        "\n",
        "# Step 1: Extract features from an image using ResNet50\n",
        "def extract_image_features(image_path):\n",
        "    base_model = ResNet50(weights='imagenet')\n",
        "    model = Model(inputs=base_model.input, outputs=base_model.layers[-2].output)\n",
        "\n",
        "    img = image.load_img(image_path, target_size=(224, 224))\n",
        "    img_array = image.img_to_array(img)\n",
        "    img_array = np.expand_dims(img_array, axis=0)\n",
        "    img_array = preprocess_input(img_array)\n",
        "\n",
        "    features = model.predict(img_array)\n",
        "    return features\n",
        "\n",
        "# Step 2: Dummy tokenizer (normally trained on a caption dataset)\n",
        "tokenizer = Tokenizer()\n",
        "tokenizer.word_index = {\n",
        "    'startseq': 1, 'a': 2, 'dog': 3, 'running': 4, 'in': 5, 'park': 6, 'endseq': 7\n",
        "}\n",
        "vocab_size = len(tokenizer.word_index) + 1\n",
        "max_length = 6\n",
        "\n",
        "# Step 3: Build the captioning model\n",
        "def create_caption_model(vocab_size, max_length):\n",
        "    image_input = tf.keras.Input(shape=(2048,))\n",
        "    image_dense = tf.keras.layers.Dense(256, activation='relu')(image_input)\n",
        "\n",
        "    caption_input = tf.keras.Input(shape=(max_length,))\n",
        "    embedding = tf.keras.layers.Embedding(vocab_size, 256, mask_zero=True)(caption_input)\n",
        "    lstm_output = tf.keras.layers.LSTM(256)(embedding)\n",
        "\n",
        "    merged = tf.keras.layers.add([image_dense, lstm_output])\n",
        "    hidden = tf.keras.layers.Dense(256, activation='relu')(merged)\n",
        "    output = tf.keras.layers.Dense(vocab_size, activation='softmax')(hidden)\n",
        "\n",
        "    return tf.keras.Model(inputs=[image_input, caption_input], outputs=output)\n",
        "\n",
        "# Step 4: Generate a caption using greedy search\n",
        "def generate_caption(model, photo, tokenizer, max_length):\n",
        "    text = 'startseq'\n",
        "    for _ in range(max_length):\n",
        "        sequence = tokenizer.texts_to_sequences([text])[0]\n",
        "        sequence = pad_sequences([sequence], maxlen=max_length)\n",
        "\n",
        "        prediction = model.predict([photo, sequence], verbose=0)\n",
        "        word_index = np.argmax(prediction)\n",
        "\n",
        "        word = ''\n",
        "        for w, idx in tokenizer.word_index.items():\n",
        "            if idx == word_index:\n",
        "                word = w\n",
        "                break\n",
        "\n",
        "        if word == 'endseq' or not word:\n",
        "            break\n",
        "\n",
        "        text += ' ' + word\n",
        "    return text.replace('startseq', '').strip()\n",
        "\n",
        "# Step 5: Run everything together (You can modify the image path)\n",
        "if __name__ == \"__main__\":\n",
        "    image_path = \"ima.webp\"  # Replace with your own image\n",
        "    features = extract_image_features(image_path)\n",
        "\n",
        "    model = create_caption_model(vocab_size, max_length)\n",
        "    caption = generate_caption(model, features, tokenizer, max_length)\n",
        "\n",
        "    print(\"Generated Caption:\", caption)\n"
      ]
    }
  ]
}